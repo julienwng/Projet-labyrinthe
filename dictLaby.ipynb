{
 "cells": [
  {
   "cell_type": "markdown",
   "id": "4a547c94-24a5-408d-a0e5-e2d2514680d2",
   "metadata": {},
   "source": [
    "# Labyrinthe et dictionnaire"
   ]
  },
  {
   "cell_type": "markdown",
   "id": "04ba8ae5-3940-4e60-a160-9dd7931372bf",
   "metadata": {},
   "source": [
    "### Création d'un labyrinthe vierge et manipulation pure"
   ]
  },
  {
   "cell_type": "markdown",
   "id": "287b13ea-3793-483e-a7d7-b724ca9b6504",
   "metadata": {},
   "source": [
    "***Création d'un labyrinthe***"
   ]
  },
  {
   "cell_type": "code",
   "execution_count": 18,
   "id": "e2ffaa1e-813d-4e20-b304-35f6e2831e9d",
   "metadata": {},
   "outputs": [],
   "source": [
    "def espace(m : int, n : int) :\n",
    "    lab = {}\n",
    "    for i in range(1, m + 1) : \n",
    "        for j in range(1, n + 1) : \n",
    "            voisins = set()\n",
    "            if i - 1 > 0 : \n",
    "                voisins.add((i - 1, j))\n",
    "            if i + 1 < m + 1 : \n",
    "                voisins.add((i + 1, j))\n",
    "            if j - 1 > 0 :\n",
    "                voisins.add((i, j - 1))\n",
    "            if j + 1 < n +1 : \n",
    "                voisins.add((i, j + 1))\n",
    "            lab[(i, j)] = voisins\n",
    "    return lab"
   ]
  },
  {
   "cell_type": "code",
   "execution_count": 19,
   "id": "1e23c5df-664d-4c9e-bcd0-c4003b957f9d",
   "metadata": {},
   "outputs": [
    {
     "name": "stdout",
     "output_type": "stream",
     "text": [
      "{(1, 1): {(1, 2), (2, 1)}, (1, 2): {(1, 1), (2, 2)}, (2, 1): {(1, 1), (2, 2)}, (2, 2): {(1, 2), (2, 1)}}\n"
     ]
    }
   ],
   "source": [
    "lab = espace(2, 2)\n",
    "print(lab)"
   ]
  },
  {
   "cell_type": "markdown",
   "id": "9b8f1d01-b197-42b8-ad21-add0a165f60c",
   "metadata": {},
   "source": [
    "***Création d'un mur / Rupture entre deux cases voisines (à peaufiner)***"
   ]
  },
  {
   "cell_type": "code",
   "execution_count": 20,
   "id": "4b7e5d9f-6951-4f3f-81e1-0e48ff16d031",
   "metadata": {},
   "outputs": [],
   "source": [
    "def cut(lab : dict, c1 : tuple, c2 : tuple) :\n",
    "    lab[c1].remove(c2)\n",
    "    lab[c2].remove(c1)"
   ]
  },
  {
   "cell_type": "code",
   "execution_count": null,
   "id": "4f4dfa02-f430-46c9-ac1f-03c1e10b4776",
   "metadata": {},
   "outputs": [],
   "source": []
  },
  {
   "cell_type": "markdown",
   "id": "03f3ba6d-29ef-435d-9112-77f043092630",
   "metadata": {},
   "source": [
    "***Création d'un chemin / Liaison entre deux cases voisines (à peaufiner)***"
   ]
  },
  {
   "cell_type": "code",
   "execution_count": 21,
   "id": "94bc4d95-3d5e-47df-af94-b014d3990aad",
   "metadata": {},
   "outputs": [],
   "source": [
    "def link(lab : dict, c1 : tuple, c2 : tuple) : \n",
    "    lab[c1].append(c2)\n",
    "    lab[c2].append(c1)"
   ]
  },
  {
   "cell_type": "markdown",
   "id": "6659188f-ae63-460f-a01d-ba513e5794e7",
   "metadata": {},
   "source": [
    "### Relation et modification dans un labyrinthe"
   ]
  },
  {
   "cell_type": "markdown",
   "id": "df64e48a-174a-4675-b7af-30f64ba15e0d",
   "metadata": {},
   "source": [
    "***Connexité***  \n",
    "On part du principe qu'un labyrinthe est connexe si et seulement si, depuis n'importe quelle case du labyrinthe, il est possible d'aller sur toute les autres cases.  \n",
    "Autrement dit, on peut accéder à toute les cases depuis une case fixé."
   ]
  },
  {
   "cell_type": "code",
   "execution_count": 22,
   "id": "db44a3ae-df49-40eb-909d-b71ca87f0df5",
   "metadata": {},
   "outputs": [],
   "source": [
    "def conEx(coord, cases, lab) : \n",
    "    voisins = lab[coord]\n",
    "    compte = 2\n",
    "    for c in voisins :\n",
    "        if c in cases :\n",
    "            compte -= 1\n",
    "            cases.remove(c)\n",
    "    if compte != 2 and len(cases) == 0: \n",
    "        return True\n",
    "    if len(cases) != 0 and compte == 2:\n",
    "        return False\n",
    "    r = False\n",
    "    for c2 in voisins :\n",
    "        r = r or conEx(c2, cases, lab)\n",
    "    return r"
   ]
  },
  {
   "cell_type": "code",
   "execution_count": 23,
   "id": "aa5678f2-d9df-4eb5-a9c3-fda83ca6fdb8",
   "metadata": {},
   "outputs": [],
   "source": [
    "def connexiTest(lab) :\n",
    "    l = list(lab.keys())\n",
    "    depart = l[0]\n",
    "    dimx = l[len(l) -1][0]\n",
    "    dimy = l[len(l) -1][1]\n",
    "    cases = list(espace(dimx, dimy).keys())\n",
    "    cases.remove(cases[0])\n",
    "    return conEx(depart, cases, lab)"
   ]
  },
  {
   "cell_type": "code",
   "execution_count": 24,
   "id": "df154c53-db8c-4a28-b0b1-9d11dafee2c8",
   "metadata": {},
   "outputs": [
    {
     "name": "stdout",
     "output_type": "stream",
     "text": [
      "False\n",
      "{(1, 1): set(), (1, 2): {(1, 3), (2, 2)}, (1, 3): {(2, 3), (1, 2), (1, 4)}, (1, 4): {(2, 4), (1, 3)}, (2, 1): {(3, 1), (2, 2)}, (2, 2): {(2, 3), (3, 2), (1, 2), (2, 1)}, (2, 3): {(2, 4), (3, 3), (1, 3), (2, 2)}, (2, 4): {(2, 3), (3, 4), (1, 4)}, (3, 1): {(3, 2), (4, 1), (2, 1)}, (3, 2): {(3, 1), (3, 3), (4, 2), (2, 2)}, (3, 3): {(2, 3), (3, 2), (3, 4), (4, 3)}, (3, 4): {(4, 4), (2, 4), (3, 3)}, (4, 1): {(3, 1), (4, 2)}, (4, 2): {(3, 2), (4, 1), (4, 3)}, (4, 3): {(4, 4), (3, 3), (4, 2)}, (4, 4): {(3, 4), (4, 3)}}\n"
     ]
    }
   ],
   "source": [
    "space = espace(4, 4)\n",
    "cut(space, (1, 1), (1, 2))\n",
    "cut(space, (1, 1), (2, 1))\n",
    "print(connexiTest(space))\n",
    "print(space)"
   ]
  },
  {
   "cell_type": "code",
   "execution_count": 25,
   "id": "941c9ca3-e205-47ee-897f-267ddd397130",
   "metadata": {},
   "outputs": [
    {
     "data": {
      "text/plain": [
       "False"
      ]
     },
     "execution_count": 25,
     "metadata": {},
     "output_type": "execute_result"
    }
   ],
   "source": [
    "space = espace(4, 4)\n",
    "for i in range(1, 5) : \n",
    "    cut(space, (1, i), (2, i))\n",
    "connexiTest(space)"
   ]
  },
  {
   "cell_type": "markdown",
   "id": "c0c15a96-e8b0-4440-98e1-b7b44fd268cb",
   "metadata": {},
   "source": [
    "### Dessin / Représentation graphique des labyrinthes"
   ]
  },
  {
   "cell_type": "markdown",
   "id": "150c375c-2720-4322-9792-bca4b8e29523",
   "metadata": {},
   "source": [
    "Version n° 1 :"
   ]
  },
  {
   "cell_type": "code",
   "execution_count": 26,
   "id": "2855a8b6-f7ca-4b8a-982b-1ab3ba5947a7",
   "metadata": {},
   "outputs": [],
   "source": [
    "def enceinte(x : int, y : int) :\n",
    "    \"\"\"dessine l'enceinte d'un labyrinthe de taille x*y\"\"\"\n",
    "\n",
    "    if x <= 0 or y <= 0 :\n",
    "        raise ValueError(\"Les dimensions de l'enceintes doivent être strictement positives !\")\n",
    "    \n",
    "    liste_pos = [(0, 0), (x, 0), (x, y), (0, y), (0, 0)]\n",
    "    plot = line2d(liste_pos, axes=False)\n",
    "    for i in range(1, x) :\n",
    "        plot += line2d([(i, 0), (i, y)], axes=False)\n",
    "    for j in range(1, y) :\n",
    "        plot += line2d([(0, j), (x, j)], axes=False)\n",
    "    return plot"
   ]
  },
  {
   "cell_type": "code",
   "execution_count": 27,
   "id": "470f5bbb-83ff-42b6-8b4c-756216a7fb89",
   "metadata": {},
   "outputs": [],
   "source": [
    "#plot += line2d([(i, 0), (i, y)], color='grey', alpha = 0.35, axes=False)"
   ]
  },
  {
   "cell_type": "code",
   "execution_count": 28,
   "id": "2bf9feeb-54a9-44a4-b4f5-ddf0e58d0e1e",
   "metadata": {},
   "outputs": [],
   "source": [
    "def labyDrawF(lab) : \n",
    "    \"\"\"Dessine une enceinte de labyrinthe et tous les murs puis dessine les murs inexistants d'une autre couleur\"\"\"\n",
    "    l = list(lab.keys())\n",
    "    dim = l[len(l) - 1]\n",
    "    dimx = dim[0]\n",
    "    dimy = dim[1]\n",
    "\n",
    "    #dessin de l'enceinte du labyrinthe + grille\n",
    "    p = enceinte(dimx, dimy)\n",
    "    \n",
    "    for case in lab : \n",
    "        coords = lab[case]\n",
    "        for voisin in coords :\n",
    "            calcx = case[0] - voisin[0]\n",
    "            calcy = case[1] - voisin[1]\n",
    "            edge = 0.5/2**5\n",
    "            if calcx == 0 :\n",
    "                if calcy == 1 :\n",
    "                    p += line2d([(case[0] - edge, dimy + 1 - case[1]), (case[0] - 1 + edge, dimy + 1 - case[1])], color='pink', axes=False)\n",
    "                    #print(case, voisin)\n",
    "            else :\n",
    "                if calcx == -1 :\n",
    "                    p += line2d([(case[0], dimy + 1 - case[1] - edge), (case[0], dimy - case[1] + edge)], color='pink', axes=False)\n",
    "                    #print(case, voisin)\n",
    "    return p"
   ]
  },
  {
   "cell_type": "code",
   "execution_count": 29,
   "id": "891d3edb-f9af-42bd-8029-d3321fee3a62",
   "metadata": {},
   "outputs": [
    {
     "data": {
      "image/png": "[encoded data removed]",
      "text/plain": [
       "Graphics object consisting of 13 graphics primitives"
      ]
     },
     "execution_count": 29,
     "metadata": {},
     "output_type": "execute_result"
    }
   ],
   "source": [
    "space = espace(3, 3)\n",
    "cut(space, (1, 1), (2, 1))\n",
    "cut(space, (1, 2), (2, 2))\n",
    "cut(space, (2, 2), (3, 2))\n",
    "cut(space, (2, 3), (3, 3))\n",
    "labyDrawF(space)"
   ]
  },
  {
   "cell_type": "code",
   "execution_count": 30,
   "id": "c120f7ff-f8c0-466d-844e-eba1bd48eb98",
   "metadata": {},
   "outputs": [],
   "source": [
    "def enceinte2(x : int, y : int) :\n",
    "    \"\"\"dessine l'enceinte d'un labyrinthe de taille x*y\"\"\"\n",
    "\n",
    "    if x <= 0 or y <= 0 :\n",
    "        raise ValueError(\"Les dimensions de l'enceintes doivent être strictement positives !\")\n",
    "    \n",
    "    liste_pos = [(0, 0), (x, 0), (x, y), (0, y), (0, 0)]\n",
    "    plot = line2d(liste_pos, axes=False)\n",
    "    for i in range(1, x) :\n",
    "        plot += line2d([(i, 0), (i, y)], axes=False, color = \"grey\", alpha = 0.35)\n",
    "    for j in range(1, y) :\n",
    "        plot += line2d([(0, j), (x, j)], axes=False, color = \"grey\", alpha = 0.35)\n",
    "    return plot"
   ]
  },
  {
   "cell_type": "code",
   "execution_count": 36,
   "id": "35613afe-7019-464a-91c9-7eb06ce1709f",
   "metadata": {},
   "outputs": [],
   "source": [
    "def labyDrawM(lab) : \n",
    "    \"\"\"Dessine une enceinte puis les murs en construisant le dicitonnaire des murs par omission\"\"\"\n",
    "    \n",
    "    l = list(lab.keys())\n",
    "    dim = l[len(l) - 1]\n",
    "    dimx = dim[0]\n",
    "    dimy = dim[1]\n",
    "\n",
    "    #dessin de l'enceinte du labyrinthe + grille\n",
    "    p = enceinte2(dimx, dimy)\n",
    "    mur = espace(dimx, dimy)\n",
    "\n",
    "    for case in mur : \n",
    "        coords = mur[case]\n",
    "        for c in lab[case] :\n",
    "            coords.remove(c)\n",
    "        for voisin in coords :\n",
    "            calcx = case[0] - voisin[0]\n",
    "            calcy = case[1] - voisin[1]\n",
    "            if calcx == 0 :\n",
    "                if calcy == 1 :\n",
    "                    p += line2d([(case[0], dimy + 1 - case[1]), (case[0] - 1, dimy + 1 - case[1])], axes=False)\n",
    "                    #print(case, voisin)\n",
    "            else :\n",
    "                if calcx == -1 :\n",
    "                    p += line2d([(case[0], dimy + 1 - case[1]), (case[0], dimy - case[1])], axes=False)\n",
    "                    #print(case, voisin)\n",
    "    return p"
   ]
  },
  {
   "cell_type": "code",
   "execution_count": 39,
   "id": "8e98fbc9-afd1-452d-8882-e1947d2c6412",
   "metadata": {
    "scrolled": true
   },
   "outputs": [
    {
     "data": {
      "image/png": "[encoded data removed]",
      "text/plain": [
       "Graphics object consisting of 9 graphics primitives"
      ]
     },
     "execution_count": 39,
     "metadata": {},
     "output_type": "execute_result"
    }
   ],
   "source": [
    "labyDrawM(space)"
   ]
  },
  {
   "cell_type": "markdown",
   "id": "a6b1e0a2-cb53-405c-835e-e122a7073165",
   "metadata": {},
   "source": [
    "## Vérifier qu'une structure est un labyrinthe"
   ]
  },
  {
   "cell_type": "code",
   "execution_count": 62,
   "id": "3b25a783-ca75-4682-9b6e-2f485f973c10",
   "metadata": {},
   "outputs": [],
   "source": [
    "def verifLaby(lab) :\n",
    "    l = list(lab.keys())\n",
    "    dim = l[len(l) - 1]\n",
    "    dimx = dim[0]\n",
    "    dimy = dim[1]\n",
    "\n",
    "    spacetest = espace(dimx, dimy)\n",
    "    occ = 0\n",
    "    for el in spacetest:\n",
    "        #print(spacetest[el])\n",
    "        occ += len(spacetest[el])\n",
    "    occ_cut = 0\n",
    "    for el in lab:\n",
    "        occ_cut += len(lab[el])\n",
    "    truth_murs = (dimx*(dimy-1) - dimy + 1 == (occ - occ_cut)/2)\n",
    "    return truth_murs and connexiTest(lab)"
   ]
  },
  {
   "cell_type": "code",
   "execution_count": 63,
   "id": "e4d00dfa-bfb5-4453-976d-4f605c2fa0fe",
   "metadata": {},
   "outputs": [
    {
     "data": {
      "text/plain": [
       "True"
      ]
     },
     "execution_count": 63,
     "metadata": {},
     "output_type": "execute_result"
    }
   ],
   "source": [
    "verifLaby(space)"
   ]
  },
  {
   "cell_type": "markdown",
   "id": "caf43786-cea4-4826-b8d1-6c6016e13a4d",
   "metadata": {},
   "source": [
    "# Idées et Test"
   ]
  },
  {
   "cell_type": "code",
   "execution_count": 16,
   "id": "47541b38-f03b-41ed-b68a-83a945f41942",
   "metadata": {},
   "outputs": [
    {
     "name": "stdout",
     "output_type": "stream",
     "text": [
      "spacetest début: {(1, 1): [(2, 1), (1, 2)], (1, 2): [(2, 2), (1, 1), (1, 3)], (1, 3): [(2, 3), (1, 2)], (2, 1): [(1, 1), (3, 1), (2, 2)], (2, 2): [(1, 2), (3, 2), (2, 1), (2, 3)], (2, 3): [(1, 3), (3, 3), (2, 2)], (3, 1): [(2, 1), (4, 1), (3, 2)], (3, 2): [(2, 2), (4, 2), (3, 1), (3, 3)], (3, 3): [(2, 3), (4, 3), (3, 2)], (4, 1): [(3, 1), (4, 2)], (4, 2): [(3, 2), (4, 1), (4, 3)], (4, 3): [(3, 3), (4, 2)]}\n",
      "True\n",
      "{(1, 1): [(2, 1), (1, 2)], (1, 2): [(1, 1), (1, 3)], (1, 3): [(1, 2)], (2, 1): [(1, 1), (2, 2)], (2, 2): [(2, 1), (2, 3)], (2, 3): [(3, 3), (2, 2)], (3, 1): [(4, 1), (3, 2)], (3, 2): [(4, 2), (3, 1), (3, 3)], (3, 3): [(2, 3), (4, 3), (3, 2)], (4, 1): [(3, 1)], (4, 2): [(3, 2)], (4, 3): [(3, 3)]}\n",
      "34 22 6\n",
      "True\n"
     ]
    }
   ],
   "source": [
    "spacetest = espace(4, 3)\n",
    "print(\"spacetest début:\", spacetest)\n",
    "occ = 0\n",
    "for el in spacetest:\n",
    "    occ += len(spacetest[el])\n",
    "\n",
    "cut(spacetest, (1, 2), (2, 2))\n",
    "cut(spacetest, (1, 3), (2, 3))\n",
    "cut(spacetest, (2, 1), (3, 1))\n",
    "cut(spacetest, (2, 2), (3, 2))\n",
    "cut(spacetest, (4, 1), (4, 2))\n",
    "cut(spacetest, (4, 2), (4, 3))\n",
    "\n",
    "print(connexiTest(spacetest))\n",
    "print(spacetest)\n",
    "\n",
    "occ_cut = 0\n",
    "for el in spacetest:\n",
    "    occ_cut += len(spacetest[el])\n",
    "print(occ, occ_cut, (occ - occ_cut)/2)\n",
    "\n",
    "#Conditions nécessaires et suffisantes caractérisation vrai labyrinthe\n",
    "    #Connexe et bon nb de murs :)\n",
    "truth_murs = (4*(3-1) - 3 + 1 == (occ - occ_cut)/2)\n",
    "print(truth_murs and connexiTest(spacetest))\n",
    "\n"
   ]
  },
  {
   "cell_type": "code",
   "execution_count": null,
   "id": "7d100ace-3bf1-40a4-b4ee-56f1179555f1",
   "metadata": {},
   "outputs": [],
   "source": []
  },
  {
   "cell_type": "code",
   "execution_count": null,
   "id": "6b3c3d9f-bbb7-4f67-a990-1072eacc594d",
   "metadata": {},
   "outputs": [],
   "source": []
  },
  {
   "cell_type": "code",
   "execution_count": null,
   "id": "92219cae-6970-49da-8521-366de1a1b137",
   "metadata": {},
   "outputs": [],
   "source": []
  }
 ],
 "metadata": {
  "kernelspec": {
   "display_name": "Python 3 (ipykernel)",
   "language": "python",
   "name": "python3"
  },
  "language_info": {
   "codemirror_mode": {
    "name": "ipython",
    "version": 3
   },
   "file_extension": ".py",
   "mimetype": "text/x-python",
   "name": "python",
   "nbconvert_exporter": "python",
   "pygments_lexer": "ipython3",
   "version": "3.12.9"
  }
 },
 "nbformat": 4,
 "nbformat_minor": 5
}
